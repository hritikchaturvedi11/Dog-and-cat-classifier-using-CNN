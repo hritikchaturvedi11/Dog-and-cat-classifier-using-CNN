{
  "nbformat": 4,
  "nbformat_minor": 0,
  "metadata": {
    "colab": {
      "name": "Dog and cat classifier.ipynb",
      "provenance": [],
      "collapsed_sections": [],
      "include_colab_link": true
    },
    "kernelspec": {
      "name": "python3",
      "display_name": "Python 3"
    }
  },
  "cells": [
    {
      "cell_type": "markdown",
      "metadata": {
        "id": "view-in-github",
        "colab_type": "text"
      },
      "source": [
        "<a href=\"https://colab.research.google.com/github/hritikchaturvedi11/Dog-and-cat-classifier-using-CNN/blob/main/Dog_and_cat_classifier.ipynb\" target=\"_parent\"><img src=\"https://colab.research.google.com/assets/colab-badge.svg\" alt=\"Open In Colab\"/></a>"
      ]
    },
    {
      "cell_type": "code",
      "metadata": {
        "id": "AZ2WadBmnm5H",
        "colab": {
          "base_uri": "https://localhost:8080/"
        },
        "outputId": "6e8b185c-a735-48dc-8adb-e9e9d2569ebf"
      },
      "source": [
        "#import data (test CSV)\n",
        "from google.colab import drive\n",
        "drive.mount('/content/drive')"
      ],
      "execution_count": 1,
      "outputs": [
        {
          "output_type": "stream",
          "text": [
            "Drive already mounted at /content/drive; to attempt to forcibly remount, call drive.mount(\"/content/drive\", force_remount=True).\n"
          ],
          "name": "stdout"
        }
      ]
    },
    {
      "cell_type": "code",
      "metadata": {
        "id": "a_dVGD5sn2k2"
      },
      "source": [
        " #cd (change directory) to the file/folder location"
      ],
      "execution_count": null,
      "outputs": []
    },
    {
      "cell_type": "code",
      "metadata": {
        "id": "4LskbY47sPeX",
        "colab": {
          "base_uri": "https://localhost:8080/"
        },
        "outputId": "166d73e0-418d-476c-960d-293e5c8967fe"
      },
      "source": [
        "!pip install tensorflow --upgrade"
      ],
      "execution_count": 2,
      "outputs": [
        {
          "output_type": "stream",
          "text": [
            "Requirement already satisfied: tensorflow in /usr/local/lib/python3.7/dist-packages (2.6.0)\n",
            "Requirement already satisfied: h5py~=3.1.0 in /usr/local/lib/python3.7/dist-packages (from tensorflow) (3.1.0)\n",
            "Requirement already satisfied: wrapt~=1.12.1 in /usr/local/lib/python3.7/dist-packages (from tensorflow) (1.12.1)\n",
            "Requirement already satisfied: keras~=2.6 in /usr/local/lib/python3.7/dist-packages (from tensorflow) (2.6.0)\n",
            "Requirement already satisfied: protobuf>=3.9.2 in /usr/local/lib/python3.7/dist-packages (from tensorflow) (3.17.3)\n",
            "Requirement already satisfied: wheel~=0.35 in /usr/local/lib/python3.7/dist-packages (from tensorflow) (0.37.0)\n",
            "Requirement already satisfied: opt-einsum~=3.3.0 in /usr/local/lib/python3.7/dist-packages (from tensorflow) (3.3.0)\n",
            "Requirement already satisfied: tensorboard~=2.6 in /usr/local/lib/python3.7/dist-packages (from tensorflow) (2.6.0)\n",
            "Requirement already satisfied: keras-preprocessing~=1.1.2 in /usr/local/lib/python3.7/dist-packages (from tensorflow) (1.1.2)\n",
            "Requirement already satisfied: google-pasta~=0.2 in /usr/local/lib/python3.7/dist-packages (from tensorflow) (0.2.0)\n",
            "Requirement already satisfied: absl-py~=0.10 in /usr/local/lib/python3.7/dist-packages (from tensorflow) (0.12.0)\n",
            "Requirement already satisfied: clang~=5.0 in /usr/local/lib/python3.7/dist-packages (from tensorflow) (5.0)\n",
            "Requirement already satisfied: astunparse~=1.6.3 in /usr/local/lib/python3.7/dist-packages (from tensorflow) (1.6.3)\n",
            "Requirement already satisfied: grpcio<2.0,>=1.37.0 in /usr/local/lib/python3.7/dist-packages (from tensorflow) (1.39.0)\n",
            "Requirement already satisfied: tensorflow-estimator~=2.6 in /usr/local/lib/python3.7/dist-packages (from tensorflow) (2.6.0)\n",
            "Requirement already satisfied: six~=1.15.0 in /usr/local/lib/python3.7/dist-packages (from tensorflow) (1.15.0)\n",
            "Requirement already satisfied: flatbuffers~=1.12.0 in /usr/local/lib/python3.7/dist-packages (from tensorflow) (1.12)\n",
            "Requirement already satisfied: gast==0.4.0 in /usr/local/lib/python3.7/dist-packages (from tensorflow) (0.4.0)\n",
            "Requirement already satisfied: termcolor~=1.1.0 in /usr/local/lib/python3.7/dist-packages (from tensorflow) (1.1.0)\n",
            "Requirement already satisfied: numpy~=1.19.2 in /usr/local/lib/python3.7/dist-packages (from tensorflow) (1.19.5)\n",
            "Requirement already satisfied: typing-extensions~=3.7.4 in /usr/local/lib/python3.7/dist-packages (from tensorflow) (3.7.4.3)\n",
            "Requirement already satisfied: cached-property in /usr/local/lib/python3.7/dist-packages (from h5py~=3.1.0->tensorflow) (1.5.2)\n",
            "Requirement already satisfied: setuptools>=41.0.0 in /usr/local/lib/python3.7/dist-packages (from tensorboard~=2.6->tensorflow) (57.4.0)\n",
            "Requirement already satisfied: tensorboard-data-server<0.7.0,>=0.6.0 in /usr/local/lib/python3.7/dist-packages (from tensorboard~=2.6->tensorflow) (0.6.1)\n",
            "Requirement already satisfied: google-auth-oauthlib<0.5,>=0.4.1 in /usr/local/lib/python3.7/dist-packages (from tensorboard~=2.6->tensorflow) (0.4.5)\n",
            "Requirement already satisfied: tensorboard-plugin-wit>=1.6.0 in /usr/local/lib/python3.7/dist-packages (from tensorboard~=2.6->tensorflow) (1.8.0)\n",
            "Requirement already satisfied: markdown>=2.6.8 in /usr/local/lib/python3.7/dist-packages (from tensorboard~=2.6->tensorflow) (3.3.4)\n",
            "Requirement already satisfied: werkzeug>=0.11.15 in /usr/local/lib/python3.7/dist-packages (from tensorboard~=2.6->tensorflow) (1.0.1)\n",
            "Requirement already satisfied: requests<3,>=2.21.0 in /usr/local/lib/python3.7/dist-packages (from tensorboard~=2.6->tensorflow) (2.23.0)\n",
            "Requirement already satisfied: google-auth<2,>=1.6.3 in /usr/local/lib/python3.7/dist-packages (from tensorboard~=2.6->tensorflow) (1.34.0)\n",
            "Requirement already satisfied: cachetools<5.0,>=2.0.0 in /usr/local/lib/python3.7/dist-packages (from google-auth<2,>=1.6.3->tensorboard~=2.6->tensorflow) (4.2.2)\n",
            "Requirement already satisfied: rsa<5,>=3.1.4 in /usr/local/lib/python3.7/dist-packages (from google-auth<2,>=1.6.3->tensorboard~=2.6->tensorflow) (4.7.2)\n",
            "Requirement already satisfied: pyasn1-modules>=0.2.1 in /usr/local/lib/python3.7/dist-packages (from google-auth<2,>=1.6.3->tensorboard~=2.6->tensorflow) (0.2.8)\n",
            "Requirement already satisfied: requests-oauthlib>=0.7.0 in /usr/local/lib/python3.7/dist-packages (from google-auth-oauthlib<0.5,>=0.4.1->tensorboard~=2.6->tensorflow) (1.3.0)\n",
            "Requirement already satisfied: importlib-metadata in /usr/local/lib/python3.7/dist-packages (from markdown>=2.6.8->tensorboard~=2.6->tensorflow) (4.6.4)\n",
            "Requirement already satisfied: pyasn1<0.5.0,>=0.4.6 in /usr/local/lib/python3.7/dist-packages (from pyasn1-modules>=0.2.1->google-auth<2,>=1.6.3->tensorboard~=2.6->tensorflow) (0.4.8)\n",
            "Requirement already satisfied: urllib3!=1.25.0,!=1.25.1,<1.26,>=1.21.1 in /usr/local/lib/python3.7/dist-packages (from requests<3,>=2.21.0->tensorboard~=2.6->tensorflow) (1.24.3)\n",
            "Requirement already satisfied: certifi>=2017.4.17 in /usr/local/lib/python3.7/dist-packages (from requests<3,>=2.21.0->tensorboard~=2.6->tensorflow) (2021.5.30)\n",
            "Requirement already satisfied: chardet<4,>=3.0.2 in /usr/local/lib/python3.7/dist-packages (from requests<3,>=2.21.0->tensorboard~=2.6->tensorflow) (3.0.4)\n",
            "Requirement already satisfied: idna<3,>=2.5 in /usr/local/lib/python3.7/dist-packages (from requests<3,>=2.21.0->tensorboard~=2.6->tensorflow) (2.10)\n",
            "Requirement already satisfied: oauthlib>=3.0.0 in /usr/local/lib/python3.7/dist-packages (from requests-oauthlib>=0.7.0->google-auth-oauthlib<0.5,>=0.4.1->tensorboard~=2.6->tensorflow) (3.1.1)\n",
            "Requirement already satisfied: zipp>=0.5 in /usr/local/lib/python3.7/dist-packages (from importlib-metadata->markdown>=2.6.8->tensorboard~=2.6->tensorflow) (3.5.0)\n"
          ],
          "name": "stdout"
        }
      ]
    },
    {
      "cell_type": "code",
      "metadata": {
        "colab": {
          "base_uri": "https://localhost:8080/"
        },
        "id": "H4cVeyY2pd9k",
        "outputId": "96b6e83f-8d75-4b84-ea9b-8533eab7f738"
      },
      "source": [
        "ls"
      ],
      "execution_count": 4,
      "outputs": [
        {
          "output_type": "stream",
          "text": [
            "\u001b[0m\u001b[01;34mdrive\u001b[0m/  \u001b[01;34msample_data\u001b[0m/\n"
          ],
          "name": "stdout"
        }
      ]
    },
    {
      "cell_type": "code",
      "metadata": {
        "colab": {
          "base_uri": "https://localhost:8080/"
        },
        "id": "Pm2Ob2iEpfqn",
        "outputId": "aa186f0c-1882-4ddb-d527-fb1f5ebdb9fe"
      },
      "source": [
        "%cd '/content/drive/MyDrive/CNN Project'"
      ],
      "execution_count": 5,
      "outputs": [
        {
          "output_type": "stream",
          "text": [
            "/content/drive/MyDrive/CNN Project\n"
          ],
          "name": "stdout"
        }
      ]
    },
    {
      "cell_type": "code",
      "metadata": {
        "colab": {
          "base_uri": "https://localhost:8080/"
        },
        "id": "JnvMehQmpoRk",
        "outputId": "65e3962c-d05e-47f9-e431-38be93f2a904"
      },
      "source": [
        "ls"
      ],
      "execution_count": 6,
      "outputs": [
        {
          "output_type": "stream",
          "text": [
            "cnn_Colab.ipynb  dataset.zip\n"
          ],
          "name": "stdout"
        }
      ]
    },
    {
      "cell_type": "code",
      "metadata": {
        "id": "O5CeaTv0pNBB"
      },
      "source": [
        "# extracting the zip file\n",
        "import shutil\n",
        "shutil.unpack_archive('dataset.zip')"
      ],
      "execution_count": 8,
      "outputs": []
    },
    {
      "cell_type": "code",
      "metadata": {
        "id": "Ae2iFe3Rn2iO",
        "colab": {
          "base_uri": "https://localhost:8080/"
        },
        "outputId": "ca0a0cb6-26d8-469e-92ac-38e59e78ed0e"
      },
      "source": [
        "# Convolutional Neural Network\n",
        "\n",
        "# Installing Keras\n",
        "\n",
        "# Part 1 - Building the CNN\n",
        "\n",
        "# Importing the Keras libraries and packages\n",
        "from tensorflow.keras.models import Sequential\n",
        "from keras.layers import Conv2D\n",
        "from keras.layers import MaxPooling2D\n",
        "from keras.layers import Flatten\n",
        "from keras.layers import Dense\n",
        "\n",
        "# Initialising the CNN\n",
        "classifier = Sequential()\n",
        "\n",
        "# Step 1 - Convolution\n",
        "classifier.add(Conv2D(32, (3, 3), input_shape = (64, 64, 3), activation = 'relu'))\n",
        "\n",
        "# Step 2 - Pooling\n",
        "classifier.add(MaxPooling2D(pool_size = (2, 2)))\n",
        "\n",
        "# Adding a second convolutional layer\n",
        "classifier.add(Conv2D(32, (3, 3), activation = 'relu'))\n",
        "classifier.add(MaxPooling2D(pool_size = (2, 2)))\n",
        "\n",
        "# Step 3 - Flattening\n",
        "classifier.add(Flatten())\n",
        "\n",
        "# Step 4 - Full connection\n",
        "classifier.add(Dense(units = 128, activation = 'relu'))\n",
        "classifier.add(Dense(units = 1, activation = 'sigmoid'))\n",
        "\n",
        "# Compiling the CNN\n",
        "classifier.compile(optimizer = 'adam', loss = 'binary_crossentropy', metrics = ['accuracy'])\n",
        "\n",
        "# Part 2 - Fitting the CNN to the images\n",
        "\n",
        "from keras.preprocessing.image import ImageDataGenerator\n",
        "\n",
        "train_datagen = ImageDataGenerator(rescale = 1./255,\n",
        "                                   shear_range = 0.2,\n",
        "                                   zoom_range = 0.2,\n",
        "                                   horizontal_flip = True)\n",
        "\n",
        "test_datagen = ImageDataGenerator(rescale = 1./255)\n",
        "\n",
        "training_set = train_datagen.flow_from_directory('dataset/training_set',\n",
        "                                                 target_size = (64, 64),\n",
        "                                                 batch_size = 32,\n",
        "                                                 class_mode = 'binary')\n",
        "\n",
        "test_set = test_datagen.flow_from_directory('dataset/test_set',\n",
        "                                            target_size = (64, 64),\n",
        "                                            batch_size = 32,\n",
        "                                            class_mode = 'binary')\n",
        "\n",
        "classifier.fit_generator(training_set,\n",
        "                         steps_per_epoch =int(8000/32),\n",
        "                         epochs = 25,\n",
        "                         validation_data = test_set,\n",
        "                         validation_steps =int(2000/32))"
      ],
      "execution_count": 12,
      "outputs": [
        {
          "metadata": {
            "tags": null
          },
          "name": "stdout",
          "output_type": "stream",
          "text": [
            "Found 8000 images belonging to 2 classes.\n",
            "Found 2000 images belonging to 2 classes.\n"
          ]
        },
        {
          "metadata": {
            "tags": null
          },
          "name": "stderr",
          "output_type": "stream",
          "text": [
            "/usr/local/lib/python3.7/dist-packages/keras/engine/training.py:1972: UserWarning: `Model.fit_generator` is deprecated and will be removed in a future version. Please use `Model.fit`, which supports generators.\n",
            "  warnings.warn('`Model.fit_generator` is deprecated and '\n"
          ]
        },
        {
          "output_type": "stream",
          "text": [
            "Epoch 1/25\n",
            "250/250 [==============================] - 86s 341ms/step - loss: 0.6668 - accuracy: 0.5854 - val_loss: 0.6185 - val_accuracy: 0.6764\n",
            "Epoch 2/25\n",
            "250/250 [==============================] - 83s 333ms/step - loss: 0.5905 - accuracy: 0.6835 - val_loss: 0.5650 - val_accuracy: 0.7193\n",
            "Epoch 3/25\n",
            "250/250 [==============================] - 84s 337ms/step - loss: 0.5503 - accuracy: 0.7191 - val_loss: 0.5213 - val_accuracy: 0.7308\n",
            "Epoch 4/25\n",
            "250/250 [==============================] - 82s 326ms/step - loss: 0.5281 - accuracy: 0.7344 - val_loss: 0.5284 - val_accuracy: 0.7364\n",
            "Epoch 5/25\n",
            "250/250 [==============================] - 81s 325ms/step - loss: 0.4989 - accuracy: 0.7558 - val_loss: 0.4967 - val_accuracy: 0.7576\n",
            "Epoch 6/25\n",
            "250/250 [==============================] - 84s 337ms/step - loss: 0.4849 - accuracy: 0.7648 - val_loss: 0.4852 - val_accuracy: 0.7697\n",
            "Epoch 7/25\n",
            "250/250 [==============================] - 82s 328ms/step - loss: 0.4764 - accuracy: 0.7697 - val_loss: 0.5007 - val_accuracy: 0.7606\n",
            "Epoch 8/25\n",
            "250/250 [==============================] - 83s 330ms/step - loss: 0.4461 - accuracy: 0.7909 - val_loss: 0.4747 - val_accuracy: 0.7717\n",
            "Epoch 9/25\n",
            "250/250 [==============================] - 83s 332ms/step - loss: 0.4350 - accuracy: 0.8012 - val_loss: 0.4823 - val_accuracy: 0.7737\n",
            "Epoch 10/25\n",
            "250/250 [==============================] - 82s 328ms/step - loss: 0.4196 - accuracy: 0.8061 - val_loss: 0.4600 - val_accuracy: 0.7863\n",
            "Epoch 11/25\n",
            "250/250 [==============================] - 82s 328ms/step - loss: 0.4050 - accuracy: 0.8125 - val_loss: 0.5421 - val_accuracy: 0.7450\n",
            "Epoch 12/25\n",
            "250/250 [==============================] - 85s 339ms/step - loss: 0.3963 - accuracy: 0.8199 - val_loss: 0.5196 - val_accuracy: 0.7697\n",
            "Epoch 13/25\n",
            "250/250 [==============================] - 82s 330ms/step - loss: 0.3798 - accuracy: 0.8253 - val_loss: 0.4717 - val_accuracy: 0.7979\n",
            "Epoch 14/25\n",
            "250/250 [==============================] - 82s 326ms/step - loss: 0.3620 - accuracy: 0.8359 - val_loss: 0.4865 - val_accuracy: 0.7848\n",
            "Epoch 15/25\n",
            "250/250 [==============================] - 82s 327ms/step - loss: 0.3635 - accuracy: 0.8384 - val_loss: 0.4539 - val_accuracy: 0.7933\n",
            "Epoch 16/25\n",
            "250/250 [==============================] - 86s 342ms/step - loss: 0.3567 - accuracy: 0.8446 - val_loss: 0.4610 - val_accuracy: 0.7959\n",
            "Epoch 17/25\n",
            "250/250 [==============================] - 85s 340ms/step - loss: 0.3250 - accuracy: 0.8564 - val_loss: 0.4950 - val_accuracy: 0.8140\n",
            "Epoch 18/25\n",
            "250/250 [==============================] - 86s 344ms/step - loss: 0.3216 - accuracy: 0.8591 - val_loss: 0.4825 - val_accuracy: 0.7888\n",
            "Epoch 19/25\n",
            "250/250 [==============================] - 86s 344ms/step - loss: 0.3067 - accuracy: 0.8661 - val_loss: 0.4848 - val_accuracy: 0.7994\n",
            "Epoch 20/25\n",
            "250/250 [==============================] - 84s 336ms/step - loss: 0.3024 - accuracy: 0.8691 - val_loss: 0.5017 - val_accuracy: 0.7964\n",
            "Epoch 21/25\n",
            "250/250 [==============================] - 83s 331ms/step - loss: 0.2842 - accuracy: 0.8806 - val_loss: 0.5067 - val_accuracy: 0.7853\n",
            "Epoch 22/25\n",
            "250/250 [==============================] - 83s 333ms/step - loss: 0.2697 - accuracy: 0.8880 - val_loss: 0.5437 - val_accuracy: 0.7989\n",
            "Epoch 23/25\n",
            "250/250 [==============================] - 83s 333ms/step - loss: 0.2582 - accuracy: 0.8910 - val_loss: 0.5315 - val_accuracy: 0.7974\n",
            "Epoch 24/25\n",
            "250/250 [==============================] - 82s 329ms/step - loss: 0.2546 - accuracy: 0.8914 - val_loss: 0.5352 - val_accuracy: 0.7974\n",
            "Epoch 25/25\n",
            "250/250 [==============================] - 83s 330ms/step - loss: 0.2348 - accuracy: 0.9005 - val_loss: 0.5413 - val_accuracy: 0.8009\n"
          ],
          "name": "stdout"
        },
        {
          "output_type": "execute_result",
          "data": {
            "text/plain": [
              "<keras.callbacks.History at 0x7f09d65de610>"
            ]
          },
          "metadata": {},
          "execution_count": 12
        }
      ]
    },
    {
      "cell_type": "code",
      "metadata": {
        "id": "AeqVwJO79y84"
      },
      "source": [
        "classifier.save('classifier.h5')"
      ],
      "execution_count": 13,
      "outputs": []
    },
    {
      "cell_type": "code",
      "metadata": {
        "id": "EgB0CzNW9_i2"
      },
      "source": [
        ""
      ],
      "execution_count": null,
      "outputs": []
    }
  ]
}